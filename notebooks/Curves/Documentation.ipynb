{
 "cells": [
  {
   "cell_type": "markdown",
   "id": "b1bfc971",
   "metadata": {},
   "source": [
    "# Интерполяция сплайнами\n",
    "$f_i$ - входные зачения функции\n",
    "\n",
    "$x_i$ - точки\n",
    "\n",
    "На каждом отрезке $[x_{i}, x_{i+1}]$ интерполируем полиномом второй степени \n",
    "$$S_i(x) = a_i + b_i x + c_i x^2$$\n",
    "Условия:\n",
    "$$\n",
    "S_i(x_i) = f_i,\\\\\n",
    "S_i(x_{i+1}) = f_{i+1},\\\\\n",
    "\\frac{dS_i}{dx}(x_i) = \\frac{dS_{i-1}}{dx}(x_i).\n",
    "$$\n",
    "Решив систему, получим формулы для пересчета коэффициентов:\n",
    "$$\n",
    "\\beta_i = b_{i-1} + 2c_{i-1}x_i,\\\\\n",
    "c_i = \\frac{f_{i+1} - f_{i}}{(x_{i+1} - x_{i})^2} - \\frac{\\beta_i}{x_{i+1} - x_{i}},\\\\\n",
    "b_i = \\beta_i - 2c_ix_i,\\\\\n",
    "a_i = f_i - c_ix_i^2 - b_ix_i.\n",
    "$$\n",
    "$\\beta_0$ придется задать. Можно положить $\\beta_0 = 0$ или \n",
    "$\\beta_0 = \\frac{f_{1} - f_{0}}{(x_{1} - x_{0})}$"
   ]
  },
  {
   "cell_type": "markdown",
   "id": "9fb9ee86",
   "metadata": {},
   "source": [
    "# Дискретное и непрерывное начисление\n",
    "## Непрерывное\n",
    "Везде далее $r_i = r(t_i)$ - ставка"
   ]
  },
  {
   "cell_type": "markdown",
   "id": "625925bf",
   "metadata": {},
   "source": [
    "В непрерывном случае используется предположение, что \n",
    "$$\n",
    "    \\exp(r_2t_2) = \\exp(r_1 t_1)\\exp(r_{1,2}(t_2-t_1)),\n",
    "$$\n",
    "откуда получаем:\n",
    "$$\n",
    "    r_{1,2} = \\frac{r_2 t_2 - r_1 t_1}{t_2 - t_1},\n",
    "$$\n",
    "Или через дисконт факторы:\n",
    "$$\n",
    "    \\frac{\\ln df(t_1) - \\ln df(t_2)}{t_2 - t_1}\n",
    "$$\n",
    "где $df(t)$ - дисконт фактор в момент времени $t.$\n",
    "$$\n",
    "    df(t) = \\exp(-r(t)t)\n",
    "$$"
   ]
  },
  {
   "cell_type": "markdown",
   "id": "0459425a",
   "metadata": {},
   "source": [
    "## Дискретное\n",
    "В дискретном случае используется предположение, что\n",
    "$$\n",
    "    (1+r_1)^{t_1}(1+r_{1,2})^{t_2 - t_1} = (1+r_2)^{t_2}.\n",
    "$$\n",
    "Откуда получаем, что \n",
    "$$\n",
    "    r_{1,2} = \\left(\\frac{(1+r_2)^{t_2}}{(1+r_1)^{t_1}}\\right)^{\\frac{1}{t_2 - t_1}} - 1\n",
    "$$\n",
    "Или через дисконт факторы:\n",
    "$$\n",
    "    r_{1,2} = \\left(\\frac{df(t_1)}{df(t_2)}  \\right)^{\\frac{1}{t_2 - t_1}} - 1\n",
    "$$\n",
    "\n",
    "Дисконт фактор вычисляется, как:\n",
    "$$\n",
    "    df(t) = (1+r(t))^{-t}\n",
    "$$"
   ]
  },
  {
   "cell_type": "markdown",
   "id": "f0554f33",
   "metadata": {},
   "source": [
    "# roll down: \n",
    "итоговая кривая: $f(t) \\to f(t - T) = f_1(t)$ "
   ]
  },
  {
   "cell_type": "markdown",
   "id": "cb5d86b2",
   "metadata": {},
   "source": [
    "# Curves bumping:\n",
    "Предположим, что $y \\sim N(\\mu, cov(y))$ многомерная нормальная случайная величина. \n",
    "Например в случае LIBOR такое предположение имеет место быть, т. к. $y$ выбирается как среднее каких-то ставок $y_i,$ т. е. $y = \\frac{1}{N}\\sum \\limits_{i=1}^{N}y_i$ и если предположить, что $y_i$ независимы (что, конечно же, является сильным допущением), то согласно ЦПТ действительно получится, что $y \\sim N.$\n",
    "\n",
    "Тогда возмущения $\\delta y \\sim N(0, 2cov(y)).$ \n",
    "\n",
    "Положим\n",
    "$$\n",
    "cov (y) = U\\Lambda U^* = \\Sigma.\n",
    "$$\n",
    "$$\n",
    "y = Vp, V = U\\Lambda^{\\frac{1}{2}}.\n",
    "$$\n",
    "Далее поступило $k$ возмущений $\\{\\delta y_i = b_i\\}_{i \\in I}, |I| = k.$ \n",
    "Им соответствуют $\\{\\delta p_i\\}_{i \\in I}.$\n",
    "Необходимо подобрать максимально правдоподобные $\\delta y_j, j \\notin I.$\n",
    "\n",
    "Выписываем функцию правдоподобия и максимизируем ее:\n",
    "$$\n",
    "P(\\delta y | \\delta y_i) = \\frac{1}{\\sqrt{2\\pi |\\det 2 \\Sigma|}} \n",
    "\\exp \\left( -\\frac{\\langle \\delta y, \\frac{1}{2}\\Sigma^{-1} \\delta y \\rangle}{2} \\right) \\to \\max,\n",
    "$$\n",
    "или, что тоже самое после пары преобразований:\n",
    "$$\n",
    "\\left\\{\n",
    "\\begin{aligned}\n",
    "    &\\langle \\delta y, U\\Lambda^{-1} U^* \\delta y \\rangle \\to \\min,\\\\\n",
    "    &\\delta y_i = b_i,\n",
    "\\end{aligned}\n",
    "\\right.\n",
    "\\Leftrightarrow\n",
    "\\left\\{\n",
    "\\begin{aligned}\n",
    "    &\\langle \\delta p, \\delta p \\rangle \\to \\min,\\\\\n",
    "    &(V \\delta p)_i = b_i,\n",
    "\\end{aligned}\n",
    "\\right.\n",
    "$$\n",
    "\n",
    "Необходимо найти соответствующие им $\\delta p_i, i = \\overline{i, n},$ при этом минимизируя отклонение $\\|\\delta p\\| \\to \\inf$\n",
    "$$\n",
    "A \\in R^{k \\times n}: A_i = V_i, i \\in I.\n",
    "$$\n",
    "$$\n",
    "b \\in R^{k}, b_i = y_i, i \\in I.\n",
    "$$\n",
    "$$\n",
    "x = \\delta p\n",
    "$$\n",
    "Задача минимизации:\n",
    "$$\n",
    "\\left\\{\n",
    "\\begin{align*}\n",
    "    &\\| x \\|^2 \\to \\inf,\\\\\n",
    "    &Ax = b.\n",
    "\\end{align*}\n",
    "\\right.\n",
    "$$\n",
    "Составляем функцию Лагранжа:\n",
    "$$\n",
    "\\begin{aligned}\n",
    "    &L = \\langle x, x \\rangle - \\langle \\lambda, Ax - b \\rangle,\\\\\n",
    "    &\\lambda \\in R^k.\n",
    "\\end{aligned}\n",
    "$$\n",
    "Дифференцируя и приравнивая нулю все, что надо, получаем, что решение будет иметь вид:\n",
    "$$\n",
    "x = A^*(AA^*)^{-1}b.\n",
    "$$\n",
    "\n",
    "$$\n",
    "\\delta y = V \\delta p = V A^*(AA^*)^{-1}b.\n",
    "$$"
   ]
  },
  {
   "cell_type": "markdown",
   "id": "024e71cb",
   "metadata": {},
   "source": [
    "Для теста: если $|I| = n, $ то $A = V$ и в результате должны получить просто сдвиг кривой на $\\delta r$"
   ]
  }
 ],
 "metadata": {
  "interpreter": {
   "hash": "916dbcbb3f70747c44a77c7bcd40155683ae19c65e1c03b4aa3499c5328201f1"
  },
  "kernelspec": {
   "display_name": "Python 3 (ipykernel)",
   "language": "python",
   "name": "python3"
  },
  "language_info": {
   "codemirror_mode": {
    "name": "ipython",
    "version": 3
   },
   "file_extension": ".py",
   "mimetype": "text/x-python",
   "name": "python",
   "nbconvert_exporter": "python",
   "pygments_lexer": "ipython3",
   "version": "3.8.10"
  }
 },
 "nbformat": 4,
 "nbformat_minor": 5
}
