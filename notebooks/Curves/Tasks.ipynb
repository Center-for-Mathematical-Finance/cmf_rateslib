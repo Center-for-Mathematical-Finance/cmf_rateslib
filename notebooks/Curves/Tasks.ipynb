{
 "cells": [
  {
   "cell_type": "code",
   "execution_count": null,
   "source": [
    "cmf_rateslib_root = '../../'\n",
    "import sys\n",
    "if cmf_rateslib_root not in sys.path:\n",
    "    sys.path.append(cmf_rateslib_root)"
   ],
   "outputs": [],
   "metadata": {}
  },
  {
   "cell_type": "code",
   "execution_count": null,
   "source": [
    "from cmf_rateslib.curves.zero_curve import ZeroCurve"
   ],
   "outputs": [],
   "metadata": {}
  },
  {
   "cell_type": "markdown",
   "source": [
    "# Tasks for Curves Group\n",
    "Extend Functionality of ZeroCurve Object\n",
    "1. Add interpolation methods\n",
    "    - Linear: \n",
    "        - zero rates\n",
    "        - log(discoun factors)\n",
    "        - forward rates\n",
    "    - Piecewise Quadratic:\n",
    "        - zero rates\n",
    "        - log(discoun factors)\n",
    "        - forward rates\n",
    "2. Support forward rates with descrete compounding frequencies\n",
    "\n",
    "3. Rolldown\n",
    "       - curve.roll(t=0.25) --> new curve\n",
    "\n",
    "4. Implement PCA curve bumping\n",
    "\n",
    "5. Curve Stripping Given Instruments\n",
    "    - Implement CurveStripper class:\n",
    "        3 types:\n",
    "         - bond curve (only needs coupon bonds)\n",
    "         - OIS curve (only OIS instruments)\n",
    "         - Libor Curve (need OIS Swaps & LIBOR swaps)"
   ],
   "metadata": {}
  },
  {
   "cell_type": "code",
   "execution_count": null,
   "source": [],
   "outputs": [],
   "metadata": {}
  }
 ],
 "metadata": {
  "kernelspec": {
   "display_name": "Python 3 (ipykernel)",
   "language": "python",
   "name": "python3"
  },
  "language_info": {
   "codemirror__mode": {
    "name": "ipython",
    "version": 3
   },
   "file_extension": ".py",
   "mimetype": "text/x-python",
   "name": "python",
   "nbconvert_exporter": "python",
   "pygments_lexer": "ipython3",
   "version": "3.8.10"
  }
 },
 "nbformat": 4,
 "nbformat_minor": 5
}