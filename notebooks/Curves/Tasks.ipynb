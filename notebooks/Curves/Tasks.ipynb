{
 "cells": [
  {
   "cell_type": "code",
   "execution_count": 1,
   "id": "9ed64ad4",
   "metadata": {},
   "outputs": [],
   "source": [
    "cmf_rateslib_root = '../../'\n",
    "import sys\n",
    "if cmf_rateslib_root not in sys.path:\n",
    "    sys.path.append(cmf_rateslib_root)"
   ]
  },
  {
   "cell_type": "code",
   "execution_count": 2,
   "id": "662c8718",
   "metadata": {},
   "outputs": [],
   "source": [
    "from cmf_rateslib.curves.zero_curve import ZeroCurve"
   ]
  },
  {
   "cell_type": "markdown",
   "id": "fa4d6aa3",
   "metadata": {},
   "source": [
    "# Tasks for Curves Group\n",
    "Extend Functionality of ZeroCurve Object\n",
    "1. Add interpolation methods\n",
    "    - Linear: \n",
    "        - zero rates\n",
    "        - log(discoun factors)\n",
    "        - forward rates\n",
    "    - Piecewise Quadratic:\n",
    "        - zero rates\n",
    "        - log(discoun factors)\n",
    "        - forward rates\n",
    "2. Support forward rates with descrete compounding frequencies\n",
    "\n",
    "3. Rolldown\n",
    "       - curve.roll(t=0.25) --> new curve\n",
    "\n",
    "4. Implement PCA curve bumping\n",
    "\n",
    "5. Curve Stripping Given Instruments\n",
    "    - Implement CurveStripper class:\n",
    "        3 types:\n",
    "         - bond curve (only needs coupon bonds)\n",
    "         - OIS curve (only OIS instruments)\n",
    "         - Libor Curve (need OIS Swaps & LIBOR swaps)"
   ]
  },
  {
   "cell_type": "code",
   "execution_count": null,
   "id": "3ca96016",
   "metadata": {},
   "outputs": [],
   "source": []
  }
 ],
 "metadata": {
  "kernelspec": {
   "display_name": "Python 3",
   "language": "python",
   "name": "python3"
  },
  "language_info": {
   "codemirror_mode": {
    "name": "ipython",
    "version": 3
   },
   "file_extension": ".py",
   "mimetype": "text/x-python",
   "name": "python",
   "nbconvert_exporter": "python",
   "pygments_lexer": "ipython3",
   "version": "3.8.8"
  }
 },
 "nbformat": 4,
 "nbformat_minor": 5
}
