{
 "cells": [
  {
   "cell_type": "code",
   "execution_count": 8,
   "id": "8689cfc3",
   "metadata": {},
   "outputs": [],
   "source": [
    "import sys, os\n",
    "root = os.path.split(os.getcwd())[0]\n",
    "if root not in sys.path:\n",
    "    sys.path.append(root)"
   ]
  },
  {
   "cell_type": "code",
   "execution_count": 10,
   "id": "36ea6712",
   "metadata": {},
   "outputs": [],
   "source": [
    "from cmf_rateslib.curves.base_curve import BaseCurve"
   ]
  },
  {
   "cell_type": "code",
   "execution_count": 11,
   "id": "ff846340",
   "metadata": {},
   "outputs": [],
   "source": [
    "bc = BaseCurve()"
   ]
  },
  {
   "cell_type": "code",
   "execution_count": 12,
   "id": "0f8dbabc",
   "metadata": {},
   "outputs": [
    {
     "ename": "TypeError",
     "evalue": "df() missing 1 required positional argument: 'expiry'",
     "output_type": "error",
     "traceback": [
      "\u001b[0;31m---------------------------------------------------------------------------\u001b[0m",
      "\u001b[0;31mTypeError\u001b[0m                                 Traceback (most recent call last)",
      "\u001b[0;32m<ipython-input-12-40dd5757c2b0>\u001b[0m in \u001b[0;36m<module>\u001b[0;34m\u001b[0m\n\u001b[0;32m----> 1\u001b[0;31m \u001b[0mbc\u001b[0m\u001b[0;34m.\u001b[0m\u001b[0mdf\u001b[0m\u001b[0;34m(\u001b[0m\u001b[0;34m)\u001b[0m\u001b[0;34m\u001b[0m\u001b[0;34m\u001b[0m\u001b[0m\n\u001b[0m",
      "\u001b[0;31mTypeError\u001b[0m: df() missing 1 required positional argument: 'expiry'"
     ]
    }
   ],
   "source": [
    "bc.df()"
   ]
  },
  {
   "cell_type": "code",
   "execution_count": null,
   "id": "7755fd98",
   "metadata": {},
   "outputs": [],
   "source": []
  }
 ],
 "metadata": {
  "kernelspec": {
   "display_name": "Python 3",
   "language": "python",
   "name": "python3"
  },
  "language_info": {
   "codemirror_mode": {
    "name": "ipython",
    "version": 3
   },
   "file_extension": ".py",
   "mimetype": "text/x-python",
   "name": "python",
   "nbconvert_exporter": "python",
   "pygments_lexer": "ipython3",
   "version": "3.9.5"
  }
 },
 "nbformat": 4,
 "nbformat_minor": 5
}
