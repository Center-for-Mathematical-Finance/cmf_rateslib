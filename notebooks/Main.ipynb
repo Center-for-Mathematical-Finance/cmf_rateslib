{
 "cells": [
  {
   "cell_type": "markdown",
   "id": "3bacf8aa",
   "metadata": {},
   "source": [
    "# CMF Rateslib Project"
   ]
  },
  {
   "cell_type": "markdown",
   "id": "6377227d",
   "metadata": {},
   "source": [
    "## 3 Sub-Projects:\n",
    "    - Rates Models\n",
    "    - FI Products\n",
    "    - Curve Building\n",
    "  \n"
   ]
  },
  {
   "cell_type": "markdown",
   "id": "f9a4bb85",
   "metadata": {},
   "source": [
    "### Conventions\n",
    " - 1 year == 1.0\n",
    " - 1 month == 1/12\n",
    " - 1 day == 1/252\n",
    " - 0.02 == 2%"
   ]
  },
  {
   "cell_type": "code",
   "execution_count": null,
   "id": "55c4c76f",
   "metadata": {},
   "outputs": [],
   "source": []
  },
  {
   "cell_type": "code",
   "execution_count": null,
   "id": "6b00ff8c",
   "metadata": {},
   "outputs": [],
   "source": []
  },
  {
   "cell_type": "code",
   "execution_count": 1,
   "id": "8689cfc3",
   "metadata": {},
   "outputs": [],
   "source": [
    "cmf_rateslib_root = '../'\n",
    "import sys\n",
    "if cmf_rateslib_root not in sys.path:\n",
    "    sys.path.append(cmf_rateslib_root)"
   ]
  },
  {
   "cell_type": "code",
   "execution_count": 2,
   "id": "55dc10a0",
   "metadata": {},
   "outputs": [],
   "source": [
    "import numpy as np"
   ]
  },
  {
   "cell_type": "code",
   "execution_count": 3,
   "id": "61ec6e98",
   "metadata": {},
   "outputs": [],
   "source": [
    "dt = 1/252\n",
    "dW = np.random.randn()*dt\n",
    "# Mean that dW is 1 day increment with unit annual vol"
   ]
  },
  {
   "cell_type": "code",
   "execution_count": 4,
   "id": "b945e213",
   "metadata": {},
   "outputs": [],
   "source": [
    "a=np.interp([2,1.5],[1,3,4],[5,6,7])"
   ]
  },
  {
   "cell_type": "markdown",
   "id": "b9989b4e",
   "metadata": {},
   "source": [
    "# Curves"
   ]
  },
  {
   "cell_type": "code",
   "execution_count": 5,
   "id": "36ea6712",
   "metadata": {},
   "outputs": [],
   "source": [
    "from cmf_rateslib.curves.base_curve import BaseZeroCurve"
   ]
  },
  {
   "cell_type": "code",
   "execution_count": 6,
   "id": "7755fd98",
   "metadata": {},
   "outputs": [],
   "source": [
    "curve = BaseZeroCurve([0,2,5,10], [0.01, 0.02, 0.03, 0.03])"
   ]
  },
  {
   "cell_type": "code",
   "execution_count": 7,
   "id": "34d80723",
   "metadata": {},
   "outputs": [
    {
     "data": {
      "text/plain": [
       "0.9983887993796147"
      ]
     },
     "execution_count": 7,
     "metadata": {},
     "output_type": "execute_result"
    }
   ],
   "source": [
    "curve.df(0.15)"
   ]
  },
  {
   "cell_type": "code",
   "execution_count": 8,
   "id": "431b0f86",
   "metadata": {},
   "outputs": [
    {
     "data": {
      "text/plain": [
       "0.028333333333333332"
      ]
     },
     "execution_count": 8,
     "metadata": {},
     "output_type": "execute_result"
    }
   ],
   "source": [
    "curve.zero_rate(4.5)"
   ]
  },
  {
   "cell_type": "code",
   "execution_count": 9,
   "id": "2668150f",
   "metadata": {},
   "outputs": [
    {
     "data": {
      "text/plain": [
       "-0.026111111111111127"
      ]
     },
     "execution_count": 9,
     "metadata": {},
     "output_type": "execute_result"
    }
   ],
   "source": [
    "curve.fwd_rate(1, 1.5)"
   ]
  },
  {
   "cell_type": "code",
   "execution_count": 10,
   "id": "16b338d1",
   "metadata": {},
   "outputs": [
    {
     "name": "stdout",
     "output_type": "stream",
     "text": [
      "Using matplotlib backend: Qt5Agg\n",
      "Populating the interactive namespace from numpy and matplotlib\n"
     ]
    }
   ],
   "source": [
    "%pylab\n",
    "%matplotlib inline"
   ]
  },
  {
   "cell_type": "code",
   "execution_count": 11,
   "id": "5b46d38a",
   "metadata": {},
   "outputs": [
    {
     "data": {
      "text/plain": [
       "[<matplotlib.lines.Line2D at 0x2015688a7c0>,\n",
       " <matplotlib.lines.Line2D at 0x2015688a880>]"
      ]
     },
     "execution_count": 11,
     "metadata": {},
     "output_type": "execute_result"
    },
    {
     "data": {
      "image/png": "[encoded data removed]",
      "text/plain": [
       "<Figure size 432x288 with 1 Axes>"
      ]
     },
     "metadata": {
      "needs_background": "light"
     },
     "output_type": "display_data"
    }
   ],
   "source": [
    "t = np.linspace(0, 10)\n",
    "plot(t, curve.zero_rate(t), t, curve.bump(0.01).zero_rate(t))"
   ]
  },
  {
   "cell_type": "code",
   "execution_count": 12,
   "id": "21f15f0a",
   "metadata": {},
   "outputs": [],
   "source": [
    "spread_curve = BaseZeroCurve([0, 5, 10], [0.001, 0.002, 0.003])"
   ]
  },
  {
   "cell_type": "code",
   "execution_count": 13,
   "id": "2ffda9b2",
   "metadata": {},
   "outputs": [
    {
     "data": {
      "text/plain": [
       "[<matplotlib.lines.Line2D at 0x20156ffdca0>,\n",
       " <matplotlib.lines.Line2D at 0x20156ffdd60>]"
      ]
     },
     "execution_count": 13,
     "metadata": {},
     "output_type": "execute_result"
    },
    {
     "data": {
      "image/png": "[encoded data removed]",
      "text/plain": [
       "<Figure size 432x288 with 1 Axes>"
      ]
     },
     "metadata": {
      "needs_background": "light"
     },
     "output_type": "display_data"
    }
   ],
   "source": [
    "t = np.linspace(0, 10)\n",
    "new_curve = curve + spread_curve\n",
    "plot(t, curve.zero_rate(t), t, new_curve.zero_rate(t))"
   ]
  },
  {
   "cell_type": "markdown",
   "id": "5f3d74eb",
   "metadata": {},
   "source": [
    "## Interpolation & extrapolation"
   ]
  },
  {
   "cell_type": "code",
   "execution_count": 14,
   "id": "da160773",
   "metadata": {},
   "outputs": [],
   "source": [
    "from cmf_rateslib.curves.zero_curve import ZeroCurve"
   ]
  },
  {
   "cell_type": "code",
   "execution_count": 53,
   "id": "3c60851f",
   "metadata": {},
   "outputs": [],
   "source": [
    "curve = ZeroCurve([3,5,10,15,19], [0.02, 0.03, 0.04,0.06,0.08])"
   ]
  },
  {
   "cell_type": "code",
   "execution_count": 54,
   "id": "18c65c32",
   "metadata": {},
   "outputs": [
    {
     "data": {
      "text/plain": [
       "[<matplotlib.lines.Line2D at 0x201574563d0>]"
      ]
     },
     "execution_count": 54,
     "metadata": {},
     "output_type": "execute_result"
    },
    {
     "data": {
      "image/png": "[encoded data removed]",
      "text/plain": [
       "<Figure size 432x288 with 1 Axes>"
      ]
     },
     "metadata": {
      "needs_background": "light"
     },
     "output_type": "display_data"
    }
   ],
   "source": [
    "plt.plot(curve._maturities,curve._rates)"
   ]
  },
  {
   "cell_type": "code",
   "execution_count": 66,
   "id": "fa0587da",
   "metadata": {},
   "outputs": [],
   "source": [
    "t_inter = np.linspace(0, 15)+3.1\n",
    "t_extra1 = np.linspace(0,3)+19.1\n",
    "t_extra2 = np.linspace(0,2.9)\n",
    "\n",
    "t_all = np.append(t_extra2,t_inter)\n",
    "t_all=np.append(t_all,t_extra1)\n",
    "\n",
    "mode='zero_rate'\n",
    "pow=2\n",
    "rates1 = curve.extrapolate(t_extra2,mode=mode,pow=pow)\n",
    "rates2 = curve.interpolate(t_inter,mode=mode,pow=pow)\n",
    "rates3 = curve.extrapolate(t_extra1,mode=mode,pow=pow)\n",
    "\n",
    "rates_all=np.append(rates1,rates2)\n",
    "rates_all=np.append(rates_all,rates3)"
   ]
  },
  {
   "cell_type": "code",
   "execution_count": 67,
   "id": "e346ddcc",
   "metadata": {},
   "outputs": [
    {
     "data": {
      "text/plain": [
       "[<matplotlib.lines.Line2D at 0x20158601f70>]"
      ]
     },
     "execution_count": 67,
     "metadata": {},
     "output_type": "execute_result"
    },
    {
     "data": {
      "image/png": "[encoded data removed]",
      "text/plain": [
       "<Figure size 432x288 with 1 Axes>"
      ]
     },
     "metadata": {
      "needs_background": "light"
     },
     "output_type": "display_data"
    }
   ],
   "source": [
    "plt.plot(t_all,rates_all)"
   ]
  },
  {
   "cell_type": "code",
   "execution_count": null,
   "id": "521450d1",
   "metadata": {},
   "outputs": [],
   "source": []
  },
  {
   "cell_type": "markdown",
   "id": "430f98ab",
   "metadata": {},
   "source": [
    "# Products"
   ]
  },
  {
   "cell_type": "code",
   "execution_count": 19,
   "id": "9e25f2ea",
   "metadata": {},
   "outputs": [],
   "source": [
    "from cmf_rateslib.products.base_product import BaseProduct"
   ]
  },
  {
   "cell_type": "code",
   "execution_count": 20,
   "id": "0e2c56c8",
   "metadata": {},
   "outputs": [],
   "source": [
    "p = BaseProduct()"
   ]
  },
  {
   "cell_type": "code",
   "execution_count": 21,
   "id": "2d94d6c1",
   "metadata": {},
   "outputs": [],
   "source": [
    "p.get_cashflows()"
   ]
  },
  {
   "cell_type": "code",
   "execution_count": 22,
   "id": "402e3ba7",
   "metadata": {},
   "outputs": [
    {
     "data": {
      "text/plain": [
       "0"
      ]
     },
     "execution_count": 22,
     "metadata": {},
     "output_type": "execute_result"
    }
   ],
   "source": [
    "p.pv()"
   ]
  },
  {
   "cell_type": "code",
   "execution_count": null,
   "id": "98f0c578",
   "metadata": {},
   "outputs": [],
   "source": []
  },
  {
   "cell_type": "code",
   "execution_count": 23,
   "id": "6a62d53f",
   "metadata": {},
   "outputs": [],
   "source": [
    "from cmf_rateslib.products.bonds import ZCBond"
   ]
  },
  {
   "cell_type": "code",
   "execution_count": 24,
   "id": "fbe06b7f",
   "metadata": {},
   "outputs": [],
   "source": [
    "bond = ZCBond(expiry=9)"
   ]
  },
  {
   "cell_type": "code",
   "execution_count": 25,
   "id": "273e27e7",
   "metadata": {},
   "outputs": [
    {
     "data": {
      "text/plain": [
       "(array([9]), array([1]))"
      ]
     },
     "execution_count": 25,
     "metadata": {},
     "output_type": "execute_result"
    }
   ],
   "source": [
    "bond.get_cashflows()"
   ]
  },
  {
   "cell_type": "code",
   "execution_count": 26,
   "id": "0f6ff07a",
   "metadata": {},
   "outputs": [
    {
     "data": {
      "text/plain": [
       "0.692671096970652"
      ]
     },
     "execution_count": 26,
     "metadata": {},
     "output_type": "execute_result"
    }
   ],
   "source": [
    "bond.pv(0, curve + spread_curve)"
   ]
  },
  {
   "cell_type": "code",
   "execution_count": null,
   "id": "360b682c",
   "metadata": {},
   "outputs": [],
   "source": []
  },
  {
   "cell_type": "markdown",
   "id": "09ecfdae",
   "metadata": {},
   "source": [
    "# Rates Models"
   ]
  },
  {
   "cell_type": "markdown",
   "id": "91a3fbde",
   "metadata": {},
   "source": [
    " Simple PCA curve Generator\n",
    " \n",
    " $n$ zero rates and $m$ factors\n",
    " $$\n",
    "     dZ = U dX\n",
    " $$\n",
    " \n",
    " $$\n",
    " dX_i = \\sigma_i dW_i \n",
    " $$\n",
    " \n",
    " Mean Reverting PCA curve Generator\n",
    " \n",
    " Same as abobe, but:\n",
    " $$\n",
    " dX_i = (\\theta_i - X)dt + \\sigma_i dW_i \n",
    " $$"
   ]
  },
  {
   "cell_type": "code",
   "execution_count": 27,
   "id": "0c5367fb",
   "metadata": {},
   "outputs": [],
   "source": [
    "from cmf_rateslib.rates.simple_pca import SimplePCAModel"
   ]
  },
  {
   "cell_type": "code",
   "execution_count": 28,
   "id": "eec4eb00",
   "metadata": {},
   "outputs": [],
   "source": [
    "model = SimplePCAModel(\n",
    "    maturities=[0, 2, 5, 10],\n",
    "    maturity_loadings=np.array([\n",
    "        [1,1,1,1],\n",
    "        [0,1,2,3],\n",
    "        [2,1,1,2]]).T,\n",
    "        factor_vols=[0.01, 0.005, 0.001])"
   ]
  },
  {
   "cell_type": "code",
   "execution_count": 29,
   "id": "0950374a",
   "metadata": {},
   "outputs": [
    {
     "ename": "TypeError",
     "evalue": "only integer scalar arrays can be converted to a scalar index",
     "output_type": "error",
     "traceback": [
      "\u001b[1;31m---------------------------------------------------------------------------\u001b[0m",
      "\u001b[1;31mTypeError\u001b[0m                                 Traceback (most recent call last)",
      "\u001b[1;32m<ipython-input-29-e4e601aba6c0>\u001b[0m in \u001b[0;36m<module>\u001b[1;34m\u001b[0m\n\u001b[1;32m----> 1\u001b[1;33m \u001b[0mmodel\u001b[0m\u001b[1;33m.\u001b[0m\u001b[0mevolve_zero_curve\u001b[0m\u001b[1;33m(\u001b[0m\u001b[0mcurve\u001b[0m\u001b[1;33m,\u001b[0m \u001b[1;36m5\u001b[0m\u001b[1;33m,\u001b[0m \u001b[1;36m1\u001b[0m\u001b[1;33m/\u001b[0m\u001b[1;36m252\u001b[0m\u001b[1;33m)\u001b[0m\u001b[1;33m\u001b[0m\u001b[1;33m\u001b[0m\u001b[0m\n\u001b[0m",
      "\u001b[1;32mD:\\CMF\\SarokaCurves\\cmf_rateslib\\rates\\simple_pca.py\u001b[0m in \u001b[0;36mevolve_zero_curve\u001b[1;34m(self, start_curve, num_periods, dt)\u001b[0m\n\u001b[0;32m     43\u001b[0m         \u001b[0mstarting_rates\u001b[0m \u001b[1;33m=\u001b[0m \u001b[0mstart_curve\u001b[0m\u001b[1;33m.\u001b[0m\u001b[0mzero_rate\u001b[0m\u001b[1;33m(\u001b[0m\u001b[0mmaturities\u001b[0m\u001b[1;33m)\u001b[0m\u001b[1;33m\u001b[0m\u001b[1;33m\u001b[0m\u001b[0m\n\u001b[0;32m     44\u001b[0m \u001b[1;33m\u001b[0m\u001b[0m\n\u001b[1;32m---> 45\u001b[1;33m         \u001b[0mall_rates\u001b[0m \u001b[1;33m=\u001b[0m \u001b[0mnp\u001b[0m\u001b[1;33m.\u001b[0m\u001b[0mconcatenate\u001b[0m\u001b[1;33m(\u001b[0m\u001b[0mstarting_rates\u001b[0m\u001b[1;33m,\u001b[0m \u001b[0mdZ\u001b[0m\u001b[1;33m.\u001b[0m\u001b[0mT\u001b[0m\u001b[1;33m)\u001b[0m\u001b[1;33m.\u001b[0m\u001b[0mcumsum\u001b[0m\u001b[1;33m(\u001b[0m\u001b[1;33m)\u001b[0m\u001b[1;33m[\u001b[0m\u001b[1;36m1\u001b[0m\u001b[1;33m:\u001b[0m\u001b[1;33m,\u001b[0m \u001b[1;33m:\u001b[0m\u001b[1;33m]\u001b[0m\u001b[1;33m\u001b[0m\u001b[1;33m\u001b[0m\u001b[0m\n\u001b[0m\u001b[0;32m     46\u001b[0m \u001b[1;33m\u001b[0m\u001b[0m\n\u001b[0;32m     47\u001b[0m         \u001b[1;32mreturn\u001b[0m \u001b[1;33m[\u001b[0m\u001b[0mZeroCurve\u001b[0m\u001b[1;33m(\u001b[0m\u001b[0mmaturities\u001b[0m\u001b[1;33m,\u001b[0m \u001b[0mrates\u001b[0m\u001b[1;33m)\u001b[0m \u001b[1;32mfor\u001b[0m \u001b[0mrates\u001b[0m \u001b[1;32min\u001b[0m \u001b[0mall_rates\u001b[0m\u001b[1;33m]\u001b[0m\u001b[1;33m\u001b[0m\u001b[1;33m\u001b[0m\u001b[0m\n",
      "\u001b[1;32m<__array_function__ internals>\u001b[0m in \u001b[0;36mconcatenate\u001b[1;34m(*args, **kwargs)\u001b[0m\n",
      "\u001b[1;31mTypeError\u001b[0m: only integer scalar arrays can be converted to a scalar index"
     ]
    }
   ],
   "source": [
    "model.evolve_zero_curve(curve, 5, 1/252)"
   ]
  },
  {
   "cell_type": "code",
   "execution_count": null,
   "id": "b5a8061d",
   "metadata": {},
   "outputs": [],
   "source": [
    "np.array([[2,2,2], [3,3,3]]).T * np.array([2,2])"
   ]
  },
  {
   "cell_type": "code",
   "execution_count": null,
   "id": "2c31b4eb",
   "metadata": {},
   "outputs": [],
   "source": [
    "bool()"
   ]
  }
 ],
 "metadata": {
  "kernelspec": {
   "display_name": "Python 3",
   "language": "python",
   "name": "python3"
  },
  "language_info": {
   "codemirror_mode": {
    "name": "ipython",
    "version": 3
   },
   "file_extension": ".py",
   "mimetype": "text/x-python",
   "name": "python",
   "nbconvert_exporter": "python",
   "pygments_lexer": "ipython3",
   "version": "3.8.8"
  }
 },
 "nbformat": 4,
 "nbformat_minor": 5
}
