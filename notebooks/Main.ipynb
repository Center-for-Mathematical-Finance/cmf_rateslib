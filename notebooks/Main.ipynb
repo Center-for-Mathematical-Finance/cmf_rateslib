{
 "cells": [
  {
   "cell_type": "markdown",
   "id": "3bacf8aa",
   "metadata": {},
   "source": [
    "# CMF Rateslib Project"
   ]
  },
  {
   "cell_type": "markdown",
   "id": "6377227d",
   "metadata": {},
   "source": [
    "## 3 Sub-Projects:\n",
    "    - Rates Models\n",
    "    - FI Products\n",
    "    - Curve Building\n",
    "  \n"
   ]
  },
  {
   "cell_type": "code",
   "execution_count": 3,
   "id": "8689cfc3",
   "metadata": {},
   "outputs": [],
   "source": [
    "cmf_rateslib_root = '../'\n",
    "import sys\n",
    "if cmf_rateslib_root not in sys.path:\n",
    "    sys.path.append(cmf_rateslib_root)"
   ]
  },
  {
   "cell_type": "code",
   "execution_count": 11,
   "id": "55dc10a0",
   "metadata": {},
   "outputs": [],
   "source": [
    "import numpy as np"
   ]
  },
  {
   "cell_type": "markdown",
   "id": "b9989b4e",
   "metadata": {},
   "source": [
    "# Curves"
   ]
  },
  {
   "cell_type": "code",
   "execution_count": 4,
   "id": "36ea6712",
   "metadata": {},
   "outputs": [],
   "source": [
    "from cmf_rateslib.curves.base_curve import BaseZeroCurve"
   ]
  },
  {
   "cell_type": "code",
   "execution_count": 13,
   "id": "7755fd98",
   "metadata": {},
   "outputs": [],
   "source": [
    "curve = BaseZeroCurve([0,2,5,10], [0.01, 0.02, 0.03, 0.03])"
   ]
  },
  {
   "cell_type": "code",
   "execution_count": 14,
   "id": "34d80723",
   "metadata": {},
   "outputs": [
    {
     "data": {
      "text/plain": [
       "0.8802934158342212"
      ]
     },
     "execution_count": 14,
     "metadata": {},
     "output_type": "execute_result"
    }
   ],
   "source": [
    "curve.df(4.5)"
   ]
  },
  {
   "cell_type": "code",
   "execution_count": 15,
   "id": "431b0f86",
   "metadata": {},
   "outputs": [
    {
     "data": {
      "text/plain": [
       "0.028333333333333332"
      ]
     },
     "execution_count": 15,
     "metadata": {},
     "output_type": "execute_result"
    }
   ],
   "source": [
    "curve.zero_rate(4.5)"
   ]
  },
  {
   "cell_type": "code",
   "execution_count": null,
   "id": "f073a339",
   "metadata": {},
   "outputs": [],
   "source": []
  },
  {
   "cell_type": "markdown",
   "id": "430f98ab",
   "metadata": {},
   "source": [
    "# Products"
   ]
  },
  {
   "cell_type": "code",
   "execution_count": 16,
   "id": "6a62d53f",
   "metadata": {},
   "outputs": [],
   "source": [
    "from cmf_rateslib.products.bonds import ZCBond"
   ]
  },
  {
   "cell_type": "code",
   "execution_count": 18,
   "id": "fbe06b7f",
   "metadata": {},
   "outputs": [],
   "source": [
    "bond = ZCBond(expiry=9)"
   ]
  },
  {
   "cell_type": "code",
   "execution_count": 19,
   "id": "273e27e7",
   "metadata": {},
   "outputs": [
    {
     "data": {
      "text/plain": [
       "(array([9]), array([1]))"
      ]
     },
     "execution_count": 19,
     "metadata": {},
     "output_type": "execute_result"
    }
   ],
   "source": [
    "bond.get_cashflows()"
   ]
  },
  {
   "cell_type": "code",
   "execution_count": 23,
   "id": "0f6ff07a",
   "metadata": {},
   "outputs": [
    {
     "data": {
      "text/plain": [
       "0.7633794943368531"
      ]
     },
     "execution_count": 23,
     "metadata": {},
     "output_type": "execute_result"
    }
   ],
   "source": [
    "bond.pv(0, curve)"
   ]
  },
  {
   "cell_type": "code",
   "execution_count": null,
   "id": "360b682c",
   "metadata": {},
   "outputs": [],
   "source": []
  },
  {
   "cell_type": "markdown",
   "id": "09ecfdae",
   "metadata": {},
   "source": [
    "# Rates Models"
   ]
  },
  {
   "cell_type": "code",
   "execution_count": 25,
   "id": "0c5367fb",
   "metadata": {},
   "outputs": [],
   "source": [
    "from cmf_rateslib.rates.simple_pca import SimplePCAModel"
   ]
  },
  {
   "cell_type": "code",
   "execution_count": 28,
   "id": "eec4eb00",
   "metadata": {},
   "outputs": [],
   "source": [
    "model = SimplePCAModel(\n",
    "    maturities=curve._maturities,\n",
    "    maturity_loadings=np.array([\n",
    "        [1,1,1,1],\n",
    "        [0,1,2,3],\n",
    "        [2,1,1,2]]).T,\n",
    "        factor_vols=[0.01, 0.005, 0.001])"
   ]
  },
  {
   "cell_type": "code",
   "execution_count": 30,
   "id": "1f0a601b",
   "metadata": {},
   "outputs": [
    {
     "ename": "ValueError",
     "evalue": "operands could not be broadcast together with shapes (3,) (3,2) ",
     "output_type": "error",
     "traceback": [
      "\u001b[0;31m---------------------------------------------------------------------------\u001b[0m",
      "\u001b[0;31mValueError\u001b[0m                                Traceback (most recent call last)",
      "\u001b[0;32m<ipython-input-30-7315f8053000>\u001b[0m in \u001b[0;36m<module>\u001b[0;34m\u001b[0m\n\u001b[0;32m----> 1\u001b[0;31m \u001b[0mmodel\u001b[0m\u001b[0;34m.\u001b[0m\u001b[0mevolve_zero_curve\u001b[0m\u001b[0;34m(\u001b[0m\u001b[0mcurve\u001b[0m\u001b[0;34m,\u001b[0m \u001b[0;36m2\u001b[0m\u001b[0;34m,\u001b[0m \u001b[0;36m1\u001b[0m\u001b[0;34m)\u001b[0m\u001b[0;34m\u001b[0m\u001b[0;34m\u001b[0m\u001b[0m\n\u001b[0m",
      "\u001b[0;32m~/Repos/cmf_rateslib/notebooks/../cmf_rateslib/rates/simple_pca.py\u001b[0m in \u001b[0;36mevolve_zero_curve\u001b[0;34m(self, start_curve, num_periods, dt)\u001b[0m\n\u001b[1;32m     36\u001b[0m \u001b[0;34m\u001b[0m\u001b[0m\n\u001b[1;32m     37\u001b[0m         \u001b[0;31m# increments of PCA factors\u001b[0m\u001b[0;34m\u001b[0m\u001b[0;34m\u001b[0m\u001b[0;34m\u001b[0m\u001b[0m\n\u001b[0;32m---> 38\u001b[0;31m         \u001b[0mdX\u001b[0m \u001b[0;34m=\u001b[0m \u001b[0msigma\u001b[0m \u001b[0;34m*\u001b[0m \u001b[0mdW\u001b[0m\u001b[0;34m\u001b[0m\u001b[0;34m\u001b[0m\u001b[0m\n\u001b[0m\u001b[1;32m     39\u001b[0m \u001b[0;34m\u001b[0m\u001b[0m\n\u001b[1;32m     40\u001b[0m         \u001b[0;31m# increments of zero rates\u001b[0m\u001b[0;34m\u001b[0m\u001b[0;34m\u001b[0m\u001b[0;34m\u001b[0m\u001b[0m\n",
      "\u001b[0;31mValueError\u001b[0m: operands could not be broadcast together with shapes (3,) (3,2) "
     ]
    }
   ],
   "source": [
    "model.evolve_zero_curve(curve, 2, 1)"
   ]
  },
  {
   "cell_type": "code",
   "execution_count": null,
   "id": "b5a8061d",
   "metadata": {},
   "outputs": [],
   "source": []
  }
 ],
 "metadata": {
  "kernelspec": {
   "display_name": "Python 3",
   "language": "python",
   "name": "python3"
  },
  "language_info": {
   "codemirror_mode": {
    "name": "ipython",
    "version": 3
   },
   "file_extension": ".py",
   "mimetype": "text/x-python",
   "name": "python",
   "nbconvert_exporter": "python",
   "pygments_lexer": "ipython3",
   "version": "3.9.5"
  }
 },
 "nbformat": 4,
 "nbformat_minor": 5
}
