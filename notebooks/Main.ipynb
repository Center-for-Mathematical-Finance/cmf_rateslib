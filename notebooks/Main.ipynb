{
 "cells": [
  {
   "cell_type": "markdown",
   "metadata": {},
   "source": [
    "# CMF Rateslib Project"
   ]
  },
  {
   "cell_type": "markdown",
   "metadata": {},
   "source": [
    "### Conventions\n",
    " - 1 year == 1.0\n",
    " - 1 month == 1/12\n",
    " - 1 day == 1/252\n",
    " - 0.02 == 2%"
   ]
  },
  {
   "cell_type": "code",
   "execution_count": null,
   "metadata": {},
   "outputs": [],
   "source": [
    "cmf_rateslib_root = '../'\n",
    "import sys\n",
    "if cmf_rateslib_root not in sys.path:\n",
    "    sys.path.append(cmf_rateslib_root)"
   ]
  },
  {
   "cell_type": "code",
   "execution_count": null,
   "metadata": {},
   "outputs": [],
   "source": [
    "import numpy as np"
   ]
  },
  {
   "cell_type": "markdown",
   "metadata": {},
   "source": [
    "# Curves"
   ]
  },
  {
   "cell_type": "code",
   "execution_count": null,
   "metadata": {},
   "outputs": [],
   "source": [
    "from cmf_rateslib.curves.base_curve import BaseZeroCurve\n",
    "from cmf_rateslib.curves.zero_curve import ZeroCurve"
   ]
  },
  {
   "cell_type": "code",
   "execution_count": null,
   "metadata": {},
   "outputs": [],
   "source": [
    "%pylab\n",
    "%matplotlib inline"
   ]
  },
  {
   "cell_type": "markdown",
   "metadata": {},
   "source": [
    "### Interpolation"
   ]
  },
  {
   "cell_type": "code",
   "execution_count": null,
   "metadata": {},
   "outputs": [],
   "source": [
    "curve = ZeroCurve([0.1, 0.2, 0.3, 0.5, 0.7, 1, 2, 3, 5, 10], [0.0751, 0.0763, 0.0773, 0.079, 0.0804, 0.0819, 0.0838, 0.0838, 0.0825, 0.0808])\n",
    "curve.lin_interpolate('zero_rates')\n",
    "curve.plot()"
   ]
  },
  {
   "cell_type": "code",
   "execution_count": null,
   "metadata": {},
   "outputs": [],
   "source": [
    "curve = ZeroCurve([0.1, 0.2, 0.3, 0.5, 0.7, 1, 2, 3, 5, 10], [0.0751, 0.0763, 0.0773, 0.079, 0.0804, 0.0819, 0.0838, 0.0838, 0.0825, 0.0808])\n",
    "curve.lin_interpolate('log_discount_factors')\n",
    "curve.plot()"
   ]
  },
  {
   "cell_type": "code",
   "execution_count": null,
   "metadata": {},
   "outputs": [],
   "source": [
    "curve = ZeroCurve([0.1, 0.2, 0.3, 0.5, 0.7, 1, 2, 3, 5, 10], [0.0751, 0.0763, 0.0773, 0.079, 0.0804, 0.0819, 0.0838, 0.0838, 0.0825, 0.0808])\n",
    "curve.lin_interpolate('forward_rates')\n",
    "curve.plot()"
   ]
  },
  {
   "cell_type": "markdown",
   "metadata": {},
   "source": [
    "### Rolldown"
   ]
  },
  {
   "cell_type": "code",
   "execution_count": null,
   "metadata": {},
   "outputs": [],
   "source": [
    "curve = ZeroCurve([0.1, 0.2, 0.3, 0.5, 0.7, 1, 2, 3, 5, 10], [0.0751, 0.0763, 0.0773, 0.079, 0.0804, 0.0819, 0.0838, 0.0838, 0.0825, 0.0808])\n",
    "curve.roll(0.25)\n",
    "curve.plot()"
   ]
  }
 ],
 "metadata": {
  "kernelspec": {
   "display_name": "Python 3",
   "language": "python",
   "name": "python3"
  },
  "language_info": {
   "codemirror_mode": {
    "name": "ipython",
    "version": 3
   },
   "file_extension": ".py",
   "mimetype": "text/x-python",
   "name": "python",
   "nbconvert_exporter": "python",
   "pygments_lexer": "ipython3",
   "version": "3.7.6"
  }
 },
 "nbformat": 4,
 "nbformat_minor": 5
}
