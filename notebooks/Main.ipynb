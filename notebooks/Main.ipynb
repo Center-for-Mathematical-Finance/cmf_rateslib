{
 "cells": [
  {
   "cell_type": "markdown",
   "id": "3bacf8aa",
   "metadata": {},
   "source": [
    "# CMF Rateslib Project"
   ]
  },
  {
   "cell_type": "markdown",
   "id": "6377227d",
   "metadata": {},
   "source": [
    "## 3 Sub-Projects:\n",
    "    - Rates Models\n",
    "    - FI Products\n",
    "    - Curve Building\n",
    "  \n"
   ]
  },
  {
   "cell_type": "markdown",
   "id": "f9a4bb85",
   "metadata": {},
   "source": [
    "### Conventions\n",
    " - 1 year == 1.0\n",
    " - 1 month == 1/12\n",
    " - 1 day == 1/252\n",
    " - 0.02 == 2%"
   ]
  },
  {
   "cell_type": "code",
   "execution__count": null,
   "id": "61ec6e98",
   "metadata": {},
   "outputs": [],
   "source": [
    "dt = 1/252\n",
    "dW = np.random.randn()*dt\n",
    "# Mean that dW is 1 day increment with unit annual vol"
   ]
  },
  {
   "cell_type": "code",
   "execution__count": null,
   "id": "6b00ff8c",
   "metadata": {},
   "outputs": [],
   "source": []
  },
  {
   "cell_type": "code",
   "execution__count": null,
   "id": "8689cfc3",
   "metadata": {},
   "outputs": [],
   "source": [
    "cmf_rateslib_root = '../'\n",
    "import sys\n",
    "if cmf_rateslib_root not in sys.path:\n",
    "    sys.path.append(cmf_rateslib_root)"
   ]
  },
  {
   "cell_type": "code",
   "execution__count": null,
   "id": "55dc10a0",
   "metadata": {},
   "outputs": [],
   "source": [
    "import numpy as np"
   ]
  },
  {
   "cell_type": "markdown",
   "id": "b9989b4e",
   "metadata": {},
   "source": [
    "# Curves"
   ]
  },
  {
   "cell_type": "code",
   "execution__count": null,
   "id": "36ea6712",
   "metadata": {},
   "outputs": [],
   "source": [
    "from cmf_rateslib.curves.base__curve import BaseZeroCurve"
   ]
  },
  {
   "cell_type": "code",
   "execution__count": null,
   "id": "7755fd98",
   "metadata": {},
   "outputs": [],
   "source": [
    "curve = BaseZeroCurve([0,2,5,10], [0.01, 0.02, 0.03, 0.03])"
   ]
  },
  {
   "cell_type": "code",
   "execution__count": null,
   "id": "34d80723",
   "metadata": {},
   "outputs": [],
   "source": [
    "curve.df(0.15)"
   ]
  },
  {
   "cell_type": "code",
   "execution__count": null,
   "id": "431b0f86",
   "metadata": {},
   "outputs": [],
   "source": [
    "curve.zero_rate(4.5)"
   ]
  },
  {
   "cell_type": "code",
   "execution__count": null,
   "id": "2668150f",
   "metadata": {},
   "outputs": [],
   "source": [
    "curve.fwd_rate(1, 1.5)"
   ]
  },
  {
   "cell_type": "code",
   "execution__count": null,
   "id": "f073a339",
   "metadata": {},
   "outputs": [],
   "source": [
    "curve.bump?"
   ]
  },
  {
   "cell_type": "code",
   "execution__count": null,
   "id": "16b338d1",
   "metadata": {},
   "outputs": [],
   "source": [
    "%pylab\n",
    "%matplotlib inline"
   ]
  },
  {
   "cell_type": "code",
   "execution__count": null,
   "id": "5b46d38a",
   "metadata": {},
   "outputs": [],
   "source": [
    "t = np.linspace(0, 10)\n",
    "plot(t, curve.zero_rate(t), t, curve.bump(0.01).zero_rate(t))"
   ]
  },
  {
   "cell_type": "code",
   "execution__count": null,
   "id": "21f15f0a",
   "metadata": {},
   "outputs": [],
   "source": [
    "spread__curve = BaseZeroCurve([0, 5, 10], [0.001, 0.002, 0.003])"
   ]
  },
  {
   "cell_type": "code",
   "execution__count": null,
   "id": "2ffda9b2",
   "metadata": {},
   "outputs": [],
   "source": [
    "t = np.linspace(0, 10)\n",
    "new__curve = curve + spread__curve\n",
    "plot(t, curve.zero_rate(t), t, new__curve.zero_rate(t))"
   ]
  },
  {
   "cell_type": "markdown",
   "id": "430f98ab",
   "metadata": {},
   "source": [
    "# Products"
   ]
  },
  {
   "cell_type": "code",
   "execution__count": null,
   "id": "9e25f2ea",
   "metadata": {},
   "outputs": [],
   "source": [
    "from cmf_rateslib.products.base_product import BaseProduct"
   ]
  },
  {
   "cell_type": "code",
   "execution__count": null,
   "id": "0e2c56c8",
   "metadata": {},
   "outputs": [],
   "source": [
    "p = BaseProduct()"
   ]
  },
  {
   "cell_type": "code",
   "execution__count": null,
   "id": "2d94d6c1",
   "metadata": {},
   "outputs": [],
   "source": [
    "p.get__cashflows()"
   ]
  },
  {
   "cell_type": "code",
   "execution__count": null,
   "id": "402e3ba7",
   "metadata": {},
   "outputs": [],
   "source": [
    "p.pv()"
   ]
  },
  {
   "cell_type": "code",
   "execution__count": null,
   "id": "98f0c578",
   "metadata": {},
   "outputs": [],
   "source": []
  },
  {
   "cell_type": "code",
   "execution__count": null,
   "id": "6a62d53f",
   "metadata": {},
   "outputs": [],
   "source": [
    "from cmf_rateslib.products.bonds import ZCBond"
   ]
  },
  {
   "cell_type": "code",
   "execution__count": null,
   "id": "fbe06b7f",
   "metadata": {},
   "outputs": [],
   "source": [
    "bond = ZCBond(expiry=9)"
   ]
  },
  {
   "cell_type": "code",
   "execution__count": null,
   "id": "273e27e7",
   "metadata": {},
   "outputs": [],
   "source": [
    "bond.get__cashflows()"
   ]
  },
  {
   "cell_type": "code",
   "execution__count": null,
   "id": "0f6ff07a",
   "metadata": {},
   "outputs": [],
   "source": [
    "bond.pv(0, curve + spread__curve)"
   ]
  },
  {
   "cell_type": "code",
   "execution__count": null,
   "id": "360b682c",
   "metadata": {},
   "outputs": [],
   "source": []
  },
  {
   "cell_type": "markdown",
   "id": "09ecfdae",
   "metadata": {},
   "source": [
    "# Rates Models"
   ]
  },
  {
   "cell_type": "markdown",
   "id": "91a3fbde",
   "metadata": {},
   "source": [
    " Simple PCA curve Generator\n",
    " \n",
    " $n$ zero rates and $m$ factors\n",
    " $$\n",
    "     dZ = U dX\n",
    " $$\n",
    " \n",
    " $$\n",
    " dX_i = \\sigma_i dW_i \n",
    " $$\n",
    " \n",
    " Mean Reverting PCA curve Generator\n",
    " \n",
    " Same as abobe, but:\n",
    " $$\n",
    " dX_i = (\\theta_i - X)dt + \\sigma_i dW_i \n",
    " $$"
   ]
  },
  {
   "cell_type": "code",
   "execution__count": null,
   "id": "0c5367fb",
   "metadata": {},
   "outputs": [],
   "source": [
    "from cmf_rateslib.rates.simple_pca import SimplePCAModel"
   ]
  },
  {
   "cell_type": "code",
   "execution__count": null,
   "id": "eec4eb00",
   "metadata": {},
   "outputs": [],
   "source": [
    "model = SimplePCAModel(\n",
    "    maturities=[0, 2, 5, 10],\n",
    "    maturity_loadings=np.array([\n",
    "        [1,1,1,1],\n",
    "        [0,1,2,3],\n",
    "        [2,1,1,2]]).T,\n",
    "        factor_vols=[0.01, 0.005, 0.001])"
   ]
  },
  {
   "cell_type": "code",
   "execution__count": null,
   "id": "0950374a",
   "metadata": {},
   "outputs": [],
   "source": [
    "model.evolve_zero__curve(curve, 5, 1/252)"
   ]
  },
  {
   "cell_type": "code",
   "execution__count": null,
   "id": "b5a8061d",
   "metadata": {},
   "outputs": [],
   "source": [
    "np.array([[2,2,2], [3,3,3]]).T * np.array([2,2])"
   ]
  },
  {
   "cell_type": "code",
   "execution__count": null,
   "id": "06e4d3dc",
   "metadata": {},
   "outputs": [],
   "source": []
  }
 ],
 "metadata": {
  "kernelspec": {
   "display_name": "Python 3 (ipykernel)",
   "language": "python",
   "name": "python3"
  },
  "language_info": {
   "codemirror__mode": {
    "name": "ipython",
    "version": 3
   },
   "file_extension": ".py",
   "mimetype": "text/x-python",
   "name": "python",
   "nbconvert_exporter": "python",
   "pygments_lexer": "ipython3",
   "version": "3.8.10"
  }
 },
 "nbformat": 4,
 "nbformat_minor": 5
}
