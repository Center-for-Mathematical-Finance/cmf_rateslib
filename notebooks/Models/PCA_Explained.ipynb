{
 "cells": [
  {
   "cell_type": "code",
   "execution_count": 2,
   "id": "f049f0ee",
   "metadata": {},
   "outputs": [],
   "source": [
    "import numpy as np"
   ]
  },
  {
   "cell_type": "code",
   "execution_count": 12,
   "id": "196e475e",
   "metadata": {},
   "outputs": [],
   "source": [
    "dz = np.random.randn(10, 100).T"
   ]
  },
  {
   "cell_type": "code",
   "execution_count": 13,
   "id": "d9d3be4f",
   "metadata": {},
   "outputs": [
    {
     "data": {
      "text/plain": [
       "(100, 10)"
      ]
     },
     "execution_count": 13,
     "metadata": {},
     "output_type": "execute_result"
    }
   ],
   "source": [
    "dz.shape"
   ]
  },
  {
   "cell_type": "code",
   "execution_count": 14,
   "id": "acf315a4",
   "metadata": {},
   "outputs": [
    {
     "data": {
      "text/plain": [
       "array([ 0.83946203,  0.60038275,  0.20726909, -0.26381689,  1.36871065,\n",
       "        0.45225464, -0.58825694,  0.79311568,  0.32110927,  1.17115234])"
      ]
     },
     "execution_count": 14,
     "metadata": {},
     "output_type": "execute_result"
    }
   ],
   "source": [
    "dz[0]"
   ]
  },
  {
   "cell_type": "code",
   "execution_count": 1,
   "id": "2700a22a",
   "metadata": {},
   "outputs": [],
   "source": [
    "cmf_rateslib_root = '../../'\n",
    "import sys\n",
    "if cmf_rateslib_root not in sys.path:\n",
    "    sys.path.append(cmf_rateslib_root)"
   ]
  },
  {
   "cell_type": "code",
   "execution_count": 3,
   "id": "46f80618",
   "metadata": {},
   "outputs": [],
   "source": [
    "from cmf_rateslib.curves.base_curve import BaseZeroCurve"
   ]
  },
  {
   "cell_type": "code",
   "execution_count": 19,
   "id": "62124d41",
   "metadata": {},
   "outputs": [],
   "source": [
    "BaseZeroCurve([], [])"
   ]
  },
  {
   "cell_type": "code",
   "execution_count": null,
   "id": "792ef642",
   "metadata": {},
   "outputs": [],
   "source": []
  },
  {
   "cell_type": "raw",
   "id": "0c01a232",
   "metadata": {},
   "source": [
    "Cov = E[XY]"
   ]
  },
  {
   "cell_type": "code",
   "execution_count": 32,
   "id": "dd3c7add",
   "metadata": {},
   "outputs": [],
   "source": [
    "C = dz.T.dot(dz)"
   ]
  },
  {
   "cell_type": "markdown",
   "id": "4e655707",
   "metadata": {},
   "source": [
    "$ C = U^T \\Lambda U $ "
   ]
  },
  {
   "cell_type": "markdown",
   "id": "f5ee193f",
   "metadata": {},
   "source": [
    "$ dz = U dx $\n",
    "\n",
    "$dx_j = \\sigma_j dW_j$\n",
    "\n",
    "$dx_j = (\\mu - x_i)dt +  \\sigma_j dW_j$\n",
    "\n",
    "$\\sigma_i = \\sqrt{\\Lambda_{ii}}$"
   ]
  },
  {
   "cell_type": "code",
   "execution_count": 41,
   "id": "973f4458",
   "metadata": {},
   "outputs": [],
   "source": [
    "dW = np.random.randn(3, 100)\n",
    "sigma = np.array([0.01, 0.005, 0.001])"
   ]
  },
  {
   "cell_type": "code",
   "execution_count": 45,
   "id": "c9f5cf3f",
   "metadata": {},
   "outputs": [],
   "source": [
    "dX = sigma * dW.T"
   ]
  },
  {
   "cell_type": "code",
   "execution_count": null,
   "id": "aa6c0cce",
   "metadata": {},
   "outputs": [],
   "source": []
  },
  {
   "cell_type": "code",
   "execution_count": 38,
   "id": "5c79c06a",
   "metadata": {},
   "outputs": [],
   "source": [
    "eigval, eigvec = np.linalg.eig(C)"
   ]
  },
  {
   "cell_type": "code",
   "execution_count": 37,
   "id": "f9ab208d",
   "metadata": {},
   "outputs": [
    {
     "data": {
      "text/plain": [
       "array([167.40157389,  55.87227416,  67.82200621,  71.7701169 ,\n",
       "        87.61131893,  95.40238306, 115.26679098, 130.23116859,\n",
       "       139.94488583, 136.25913596])"
      ]
     },
     "execution_count": 37,
     "metadata": {},
     "output_type": "execute_result"
    }
   ],
   "source": [
    "eigval"
   ]
  },
  {
   "cell_type": "code",
   "execution_count": 47,
   "id": "a4f0343e",
   "metadata": {},
   "outputs": [
    {
     "data": {
      "text/plain": [
       "(10, 10)"
      ]
     },
     "execution_count": 47,
     "metadata": {},
     "output_type": "execute_result"
    }
   ],
   "source": [
    "eigvec.shape"
   ]
  },
  {
   "cell_type": "code",
   "execution_count": 48,
   "id": "4f54943e",
   "metadata": {},
   "outputs": [],
   "source": [
    "x0 = [1, 2, 3]"
   ]
  },
  {
   "cell_type": "code",
   "execution_count": null,
   "id": "e727ac8a",
   "metadata": {},
   "outputs": [],
   "source": []
  },
  {
   "cell_type": "code",
   "execution_count": null,
   "id": "723f1085",
   "metadata": {},
   "outputs": [],
   "source": []
  },
  {
   "cell_type": "code",
   "execution_count": 24,
   "id": "3ae8edc7",
   "metadata": {},
   "outputs": [],
   "source": [
    "r_0 = 0.01\n",
    "theta = 0.02\n",
    "alpha = 4\n",
    "sigma = 0.005\n",
    "dt = 1/252\n",
    "\n",
    "u = np.random.randn(253)\n",
    "dW = u*np.sqrt(dt)\n",
    "t = np.linspace(0, 1, 253)"
   ]
  },
  {
   "cell_type": "code",
   "execution_count": null,
   "id": "7885600c",
   "metadata": {},
   "outputs": [],
   "source": []
  },
  {
   "cell_type": "raw",
   "id": "dc4008c2",
   "metadata": {},
   "source": [
    "r_t ~ N(mu_t, var_t)"
   ]
  },
  {
   "cell_type": "code",
   "execution_count": 41,
   "id": "cc78e0bd",
   "metadata": {},
   "outputs": [],
   "source": [
    "t = np.linspace(0, 1, 4)"
   ]
  },
  {
   "cell_type": "code",
   "execution_count": 42,
   "id": "50097868",
   "metadata": {},
   "outputs": [],
   "source": []
  },
  {
   "cell_type": "code",
   "execution_count": 43,
   "id": "b5d5ee58",
   "metadata": {},
   "outputs": [],
   "source": []
  },
  {
   "cell_type": "code",
   "execution_count": null,
   "id": "19d22b3f",
   "metadata": {},
   "outputs": [],
   "source": [
    "for i in range(1, 4):\n",
    "    mu_t = np.exp(-alpha*t) * r_0 + theta * (1 - np.exp(-alpha*t))\n",
    "    var_t = (sigma**2) / (2*alpha) * (1 - np.exp(-2*alpha*t))"
   ]
  },
  {
   "cell_type": "code",
   "execution_count": 40,
   "id": "4a0cacdf",
   "metadata": {},
   "outputs": [
    {
     "ename": "ValueError",
     "evalue": "operands could not be broadcast together with shapes (4,) (253,) ",
     "output_type": "error",
     "traceback": [
      "\u001b[0;31m---------------------------------------------------------------------------\u001b[0m",
      "\u001b[0;31mValueError\u001b[0m                                Traceback (most recent call last)",
      "\u001b[0;32m<ipython-input-40-e46d5c735f98>\u001b[0m in \u001b[0;36m<module>\u001b[0;34m\u001b[0m\n\u001b[0;32m----> 1\u001b[0;31m \u001b[0mr_t\u001b[0m \u001b[0;34m=\u001b[0m \u001b[0mmu_t\u001b[0m \u001b[0;34m+\u001b[0m \u001b[0mnp\u001b[0m\u001b[0;34m.\u001b[0m\u001b[0msqrt\u001b[0m\u001b[0;34m(\u001b[0m\u001b[0mvar_t\u001b[0m\u001b[0;34m)\u001b[0m \u001b[0;34m*\u001b[0m \u001b[0mu\u001b[0m\u001b[0;34m\u001b[0m\u001b[0;34m\u001b[0m\u001b[0m\n\u001b[0m",
      "\u001b[0;31mValueError\u001b[0m: operands could not be broadcast together with shapes (4,) (253,) "
     ]
    }
   ],
   "source": [
    "r_t = mu_t + np.sqrt(var_t) * n"
   ]
  },
  {
   "cell_type": "code",
   "execution_count": 28,
   "id": "6fc9254e",
   "metadata": {},
   "outputs": [
    {
     "name": "stdout",
     "output_type": "stream",
     "text": [
      "Using matplotlib backend: MacOSX\n",
      "Populating the interactive namespace from numpy and matplotlib\n"
     ]
    }
   ],
   "source": [
    "%pylab\n",
    "%matplotlib inline"
   ]
  },
  {
   "cell_type": "code",
   "execution_count": 29,
   "id": "b1de1283",
   "metadata": {},
   "outputs": [
    {
     "data": {
      "text/plain": [
       "[<matplotlib.lines.Line2D at 0x7f9490be3400>]"
      ]
     },
     "execution_count": 29,
     "metadata": {},
     "output_type": "execute_result"
    },
    {
     "data": {
      "image/png": "[encoded data removed]",
      "text/plain": [
       "<Figure size 432x288 with 1 Axes>"
      ]
     },
     "metadata": {
      "needs_background": "light"
     },
     "output_type": "display_data"
    }
   ],
   "source": [
    "plot(t, r_t)"
   ]
  },
  {
   "cell_type": "code",
   "execution_count": 34,
   "id": "7ffc1d92",
   "metadata": {},
   "outputs": [],
   "source": [
    "r_i = r_0\n",
    "r_t_mc = np.zeros(253)\n",
    "r_t_mc[0] = r_0\n",
    "for i in range(1, 253):\n",
    "    r_i += alpha*(theta - r_i)*dt + sigma*dW[i]\n",
    "    r_t_mc[i] = r_i"
   ]
  },
  {
   "cell_type": "code",
   "execution_count": 36,
   "id": "18204dd0",
   "metadata": {},
   "outputs": [
    {
     "data": {
      "text/plain": [
       "[<matplotlib.lines.Line2D at 0x7f9490e6bcd0>]"
      ]
     },
     "execution_count": 36,
     "metadata": {},
     "output_type": "execute_result"
    },
    {
     "data": {
      "image/png": "[encoded data removed]",
      "text/plain": [
       "<Figure size 432x288 with 1 Axes>"
      ]
     },
     "metadata": {
      "needs_background": "light"
     },
     "output_type": "display_data"
    }
   ],
   "source": [
    "plot(t, r_t_mc)"
   ]
  },
  {
   "cell_type": "code",
   "execution_count": null,
   "id": "468368a4",
   "metadata": {},
   "outputs": [],
   "source": [
    "U, "
   ]
  },
  {
   "cell_type": "code",
   "execution_count": null,
   "id": "942df7e1",
   "metadata": {},
   "outputs": [],
   "source": []
  },
  {
   "cell_type": "code",
   "execution_count": null,
   "id": "6877190f",
   "metadata": {},
   "outputs": [],
   "source": []
  },
  {
   "cell_type": "code",
   "execution_count": null,
   "id": "9e3532ee",
   "metadata": {},
   "outputs": [],
   "source": []
  }
 ],
 "metadata": {
  "kernelspec": {
   "display_name": "Python 3",
   "language": "python",
   "name": "python3"
  },
  "language_info": {
   "codemirror_mode": {
    "name": "ipython",
    "version": 3
   },
   "file_extension": ".py",
   "mimetype": "text/x-python",
   "name": "python",
   "nbconvert_exporter": "python",
   "pygments_lexer": "ipython3",
   "version": "3.9.5"
  }
 },
 "nbformat": 4,
 "nbformat_minor": 5
}
