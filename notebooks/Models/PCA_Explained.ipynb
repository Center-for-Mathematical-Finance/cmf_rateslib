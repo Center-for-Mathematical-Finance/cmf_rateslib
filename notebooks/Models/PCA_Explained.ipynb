{
 "cells": [
  {
   "cell_type": "code",
   "execution_count": 1,
   "id": "f049f0ee",
   "metadata": {},
   "outputs": [],
   "source": [
    "import numpy as np"
   ]
  },
  {
   "cell_type": "code",
   "execution_count": 12,
   "id": "196e475e",
   "metadata": {},
   "outputs": [],
   "source": [
    "dz = np.random.randn(10, 100).T"
   ]
  },
  {
   "cell_type": "code",
   "execution_count": 13,
   "id": "d9d3be4f",
   "metadata": {},
   "outputs": [
    {
     "data": {
      "text/plain": [
       "(100, 10)"
      ]
     },
     "execution_count": 13,
     "metadata": {},
     "output_type": "execute_result"
    }
   ],
   "source": [
    "dz.shape"
   ]
  },
  {
   "cell_type": "code",
   "execution_count": 14,
   "id": "acf315a4",
   "metadata": {},
   "outputs": [
    {
     "data": {
      "text/plain": [
       "array([ 0.83946203,  0.60038275,  0.20726909, -0.26381689,  1.36871065,\n",
       "        0.45225464, -0.58825694,  0.79311568,  0.32110927,  1.17115234])"
      ]
     },
     "execution_count": 14,
     "metadata": {},
     "output_type": "execute_result"
    }
   ],
   "source": [
    "dz[0]"
   ]
  },
  {
   "cell_type": "code",
   "execution_count": 16,
   "id": "2700a22a",
   "metadata": {},
   "outputs": [],
   "source": [
    "cmf_rateslib_root = '../../'\n",
    "import sys\n",
    "if cmf_rateslib_root not in sys.path:\n",
    "    sys.path.append(cmf_rateslib_root)"
   ]
  },
  {
   "cell_type": "code",
   "execution_count": 18,
   "id": "46f80618",
   "metadata": {},
   "outputs": [],
   "source": [
    "from cmf_rateslib.curves.base_curve import BaseZeroCurve"
   ]
  },
  {
   "cell_type": "code",
   "execution_count": 19,
   "id": "62124d41",
   "metadata": {},
   "outputs": [],
   "source": [
    "BaseZeroCurve([], [])"
   ]
  },
  {
   "cell_type": "code",
   "execution_count": null,
   "id": "792ef642",
   "metadata": {},
   "outputs": [],
   "source": []
  },
  {
   "cell_type": "raw",
   "id": "0c01a232",
   "metadata": {},
   "source": [
    "Cov = E[XY]"
   ]
  },
  {
   "cell_type": "code",
   "execution_count": 32,
   "id": "dd3c7add",
   "metadata": {},
   "outputs": [],
   "source": [
    "C = dz.T.dot(dz)"
   ]
  },
  {
   "cell_type": "markdown",
   "id": "4e655707",
   "metadata": {},
   "source": [
    "$ C = U^T \\Lambda U $ "
   ]
  },
  {
   "cell_type": "markdown",
   "id": "f5ee193f",
   "metadata": {},
   "source": [
    "$ dz = U dx $\n",
    "\n",
    "$dx_j = \\sigma_j dW_j$\n",
    "\n",
    "$dx_j = (\\mu - x_i)dt +  \\sigma_j dW_j$\n",
    "\n",
    "$\\sigma_i = \\sqrt{\\Lambda_{ii}}$"
   ]
  },
  {
   "cell_type": "code",
   "execution_count": 41,
   "id": "973f4458",
   "metadata": {},
   "outputs": [],
   "source": [
    "dW = np.random.randn(3, 100)\n",
    "sigma = np.array([0.01, 0.005, 0.001])"
   ]
  },
  {
   "cell_type": "code",
   "execution_count": 45,
   "id": "c9f5cf3f",
   "metadata": {},
   "outputs": [],
   "source": [
    "dX = sigma * dW.T"
   ]
  },
  {
   "cell_type": "code",
   "execution_count": null,
   "id": "aa6c0cce",
   "metadata": {},
   "outputs": [],
   "source": []
  },
  {
   "cell_type": "code",
   "execution_count": 38,
   "id": "5c79c06a",
   "metadata": {},
   "outputs": [],
   "source": [
    "eigval, eigvec = np.linalg.eig(C)"
   ]
  },
  {
   "cell_type": "code",
   "execution_count": 37,
   "id": "f9ab208d",
   "metadata": {},
   "outputs": [
    {
     "data": {
      "text/plain": [
       "array([167.40157389,  55.87227416,  67.82200621,  71.7701169 ,\n",
       "        87.61131893,  95.40238306, 115.26679098, 130.23116859,\n",
       "       139.94488583, 136.25913596])"
      ]
     },
     "execution_count": 37,
     "metadata": {},
     "output_type": "execute_result"
    }
   ],
   "source": [
    "eigval"
   ]
  },
  {
   "cell_type": "code",
   "execution_count": 47,
   "id": "a4f0343e",
   "metadata": {},
   "outputs": [
    {
     "data": {
      "text/plain": [
       "(10, 10)"
      ]
     },
     "execution_count": 47,
     "metadata": {},
     "output_type": "execute_result"
    }
   ],
   "source": [
    "eigvec.shape"
   ]
  },
  {
   "cell_type": "code",
   "execution_count": 48,
   "id": "4f54943e",
   "metadata": {},
   "outputs": [],
   "source": [
    "x0 = [1, 2, 3]"
   ]
  },
  {
   "cell_type": "code",
   "execution_count": 49,
   "id": "94fda04d",
   "metadata": {},
   "outputs": [
    {
     "ename": "NameError",
     "evalue": "name 'U' is not defined",
     "output_type": "error",
     "traceback": [
      "\u001b[0;31m---------------------------------------------------------------------------\u001b[0m",
      "\u001b[0;31mNameError\u001b[0m                                 Traceback (most recent call last)",
      "\u001b[0;32m<ipython-input-49-e2036e37e4ed>\u001b[0m in \u001b[0;36m<module>\u001b[0;34m\u001b[0m\n\u001b[0;32m----> 1\u001b[0;31m \u001b[0mz0\u001b[0m \u001b[0;34m=\u001b[0m \u001b[0mU\u001b[0m\u001b[0;34m.\u001b[0m\u001b[0mdot\u001b[0m\u001b[0;34m(\u001b[0m\u001b[0mz0\u001b[0m\u001b[0;34m)\u001b[0m\u001b[0;34m\u001b[0m\u001b[0;34m\u001b[0m\u001b[0m\n\u001b[0m",
      "\u001b[0;31mNameError\u001b[0m: name 'U' is not defined"
     ]
    }
   ],
   "source": [
    "z0 = U.dot(z0)"
   ]
  },
  {
   "cell_type": "code",
   "execution_count": null,
   "id": "e727ac8a",
   "metadata": {},
   "outputs": [],
   "source": []
  }
 ],
 "metadata": {
  "kernelspec": {
   "display_name": "Python 3",
   "language": "python",
   "name": "python3"
  },
  "language_info": {
   "codemirror_mode": {
    "name": "ipython",
    "version": 3
   },
   "file_extension": ".py",
   "mimetype": "text/x-python",
   "name": "python",
   "nbconvert_exporter": "python",
   "pygments_lexer": "ipython3",
   "version": "3.9.5"
  }
 },
 "nbformat": 4,
 "nbformat_minor": 5
}
