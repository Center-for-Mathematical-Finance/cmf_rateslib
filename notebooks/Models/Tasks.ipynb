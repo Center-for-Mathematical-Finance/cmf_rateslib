{
 "cells": [
  {
   "cell_type": "code",
   "execution_count": 4,
   "metadata": {},
   "outputs": [],
   "source": [
    "cmf_rateslib_root = '../../'\n",
    "import sys\n",
    "if cmf_rateslib_root not in sys.path:\n",
    "    sys.path.append(cmf_rateslib_root)"
   ]
  },
  {
   "cell_type": "code",
   "execution_count": 5,
   "metadata": {},
   "outputs": [],
   "source": [
    "from cmf_rateslib.rates.simple_pca import SimplePCAModel"
   ]
  },
  {
   "cell_type": "markdown",
   "metadata": {},
   "source": [
    "# Tasks for Rates Group\n",
    "Models to implement:\n",
    "1. Simple PCA curve generator\n",
    "2. Mean Revetign PCA \n",
    "3. Vasicek Short Rate model (evolutio of theta + risk premium)\n",
    "     $$dr = ((\\theta + \\eta) - r)dt + \\sigma dW$$\n",
    "     $$d\\eta = ...$$\n",
    "4. Libor Market Model\n",
    "\n",
    "Models must do:\n",
    " 1. Evolve a single curve (or generate new)\n",
    " 2. Generate 2 (or more?) correlated curves!!!\n",
    "     3 factors for curve 1\n",
    "     3 factors for curve 2\n",
    "     factors are correlated pairwise\n",
    "\n",
    " 3. Fit model parameters give existing zero curves\n",
    " "
   ]
  },
  {
   "cell_type": "code",
   "execution_count": null,
   "metadata": {},
   "outputs": [],
   "source": []
  }
 ],
 "metadata": {
  "kernelspec": {
   "display_name": "Python 3",
   "language": "python",
   "name": "python3"
  },
  "language_info": {
   "codemirror_mode": {
    "name": "ipython",
    "version": 3
   },
   "file_extension": ".py",
   "mimetype": "text/x-python",
   "name": "python",
   "nbconvert_exporter": "python",
   "pygments_lexer": "ipython3",
   "version": "3.7.6"
  }
 },
 "nbformat": 4,
 "nbformat_minor": 5
}