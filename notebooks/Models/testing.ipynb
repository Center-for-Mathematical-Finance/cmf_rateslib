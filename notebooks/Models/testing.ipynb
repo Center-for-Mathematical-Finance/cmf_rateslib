{
 "cells": [
  {
   "cell_type": "code",
   "execution_count": 1,
   "metadata": {},
   "outputs": [],
   "source": [
    "cmf_rateslib_root = '../../'\n",
    "import sys\n",
    "if cmf_rateslib_root not in sys.path:\n",
    "    sys.path.append(cmf_rateslib_root)\n",
    "import numpy as np"
   ]
  },
  {
   "cell_type": "code",
   "execution_count": 2,
   "metadata": {},
   "outputs": [],
   "source": [
    "from cmf_rateslib.curves.base_curve import BaseZeroCurve"
   ]
  },
  {
   "cell_type": "code",
   "execution_count": 3,
   "metadata": {},
   "outputs": [],
   "source": [
    "curve = BaseZeroCurve(np.array([0,2,5,10]), [0.01, 0.02, 0.03, 0.03],'L-R-1D')\n",
    "curve1 = BaseZeroCurve(np.array([0,2,5,10]), [0.01, 0.02, 0.03, 0.03],'L-R-1D')\n",
    "curve2 = BaseZeroCurve(np.array([0,2,5,10]), [0.01, 0.02, 0.03, 0.03],'L-R-1D')"
   ]
  },
  {
   "cell_type": "code",
   "execution_count": 4,
   "metadata": {},
   "outputs": [
    {
     "data": {
      "text/plain": [
       "['L', 'R', '1D']"
      ]
     },
     "execution_count": 4,
     "metadata": {},
     "output_type": "execute_result"
    }
   ],
   "source": [
    "curve._interp_method"
   ]
  },
  {
   "cell_type": "code",
   "execution_count": 5,
   "metadata": {},
   "outputs": [],
   "source": [
    "from cmf_rateslib.rates.simple_pca import SimplePCAModel\n",
    "from cmf_rateslib.rates.mean_reverting_pca import MeanRevertingPCAModel"
   ]
  },
  {
   "cell_type": "code",
   "execution_count": 6,
   "metadata": {},
   "outputs": [
    {
     "name": "stdout",
     "output_type": "stream",
     "text": [
      "[[1 0 2]\n",
      " [1 1 1]\n",
      " [1 2 1]\n",
      " [1 3 2]]\n"
     ]
    }
   ],
   "source": [
    "maturities = [0,2,5,10]\n",
    "loadings = np.array([[1,1,1,1],[0,1,2,3],[2,1,1,2]]).T\n",
    "vols = [0.01,0.005,0.001]\n",
    "print(loadings)"
   ]
  },
  {
   "cell_type": "code",
   "execution_count": 7,
   "metadata": {},
   "outputs": [],
   "source": [
    "model = SimplePCAModel(maturities,loadings,vols)"
   ]
  },
  {
   "cell_type": "code",
   "execution_count": 8,
   "metadata": {},
   "outputs": [],
   "source": [
    "curves_num = 6\n",
    "existing_curves = []\n",
    "for i in range (1,1+curves_num):\n",
    "    existing_curves.append(BaseZeroCurve(np.array([0,2,5,10]), [0.01+np.random.normal(0.0,0.001),\n",
    "                                                                0.03+np.random.normal(0.0,0.001),\n",
    "                                                                0.04+np.random.normal(0.0,0.001),\n",
    "                                                                0.07+np.random.normal(0.0,0.001)],'L-R-1D'))\n",
    "\n",
    "a1,a2 = model.fit(existing_curves,[0,2,5,7,9])\n"
   ]
  },
  {
   "cell_type": "code",
   "execution_count": 9,
   "metadata": {},
   "outputs": [],
   "source": [
    "maturities = [0,2,5,10]\n",
    "loadings = np.array([[1,1,1,1],[0,1,2,3],[2,1,1,2]]).T\n",
    "vols = [0.01,0.005,0.001]\n",
    "theta = [0.001,0.002,-0.003]\n",
    "kappa = 0.01 * np.array([[1,0,0],[0,1,0],[0,0,2]]).T\n",
    "mean_rev_model = MeanRevertingPCAModel(maturities,loadings,vols,theta,kappa)"
   ]
  },
  {
   "cell_type": "code",
   "execution_count": 10,
   "metadata": {},
   "outputs": [
    {
     "name": "stdout",
     "output_type": "stream",
     "text": [
      "[0.01 0.02 0.03 0.03]\n",
      "[[1 0 2]\n",
      " [1 1 1]\n",
      " [1 2 1]\n",
      " [1 3 2]]\n",
      "[ 0.01950006  0.00699999 -0.00500003]\n"
     ]
    },
    {
     "data": {
      "text/plain": [
       "[<cmf_rateslib.curves.zero_curve.ZeroCurve at 0x2b765e9de20>,\n",
       " <cmf_rateslib.curves.zero_curve.ZeroCurve at 0x2b765e9daf0>,\n",
       " <cmf_rateslib.curves.zero_curve.ZeroCurve at 0x2b765e9dbe0>,\n",
       " <cmf_rateslib.curves.zero_curve.ZeroCurve at 0x2b765e9ddc0>,\n",
       " <cmf_rateslib.curves.zero_curve.ZeroCurve at 0x2b765700a00>]"
      ]
     },
     "execution_count": 10,
     "metadata": {},
     "output_type": "execute_result"
    }
   ],
   "source": [
    "mean_rev_model.evolve_zero_curve(curve,5,1/252)"
   ]
  },
  {
   "cell_type": "code",
   "execution_count": null,
   "metadata": {},
   "outputs": [],
   "source": []
  }
 ],
 "metadata": {
  "interpreter": {
   "hash": "907a382e09b2757bc38226d8923a37d6d0616ad8488fb6d4c37dc86ab1262c56"
  },
  "kernelspec": {
   "display_name": "Python 3.9.7 64-bit ('cmf39': conda)",
   "language": "python",
   "name": "python3"
  },
  "language_info": {
   "codemirror_mode": {
    "name": "ipython",
    "version": 3
   },
   "file_extension": ".py",
   "mimetype": "text/x-python",
   "name": "python",
   "nbconvert_exporter": "python",
   "pygments_lexer": "ipython3",
   "version": "3.9.7"
  },
  "orig_nbformat": 4
 },
 "nbformat": 4,
 "nbformat_minor": 2
}
