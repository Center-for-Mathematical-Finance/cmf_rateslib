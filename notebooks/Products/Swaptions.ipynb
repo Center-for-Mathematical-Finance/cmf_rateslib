{
 "cells": [
  {
   "cell_type": "code",
   "execution_count": 1,
   "id": "4bbf0c99-4549-428b-b9e6-80acabeb2ef2",
   "metadata": {},
   "outputs": [],
   "source": [
    "cmf_rateslib_root = '../../'\n",
    "import sys\n",
    "if cmf_rateslib_root not in sys.path:\n",
    "    sys.path.append(cmf_rateslib_root)"
   ]
  },
  {
   "cell_type": "markdown",
   "id": "b3e121ad-68ee-4e2d-b2c2-cdd516e56272",
   "metadata": {},
   "source": [
    "# Example of Swaptions usage"
   ]
  },
  {
   "cell_type": "code",
   "execution_count": 2,
   "id": "fe66fa4a-ee44-4529-bf68-063026988104",
   "metadata": {},
   "outputs": [],
   "source": [
    "%load_ext autoreload\n",
    "%autoreload 2"
   ]
  },
  {
   "cell_type": "code",
   "execution_count": 32,
   "id": "8af28beb-dc0f-4ce3-ac81-fa3502a889b8",
   "metadata": {},
   "outputs": [
    {
     "data": {
      "text/plain": [
       "-0.04145892375894515"
      ]
     },
     "execution_count": 32,
     "metadata": {},
     "output_type": "execute_result"
    }
   ],
   "source": [
    "from datetime import datetime\n",
    "\n",
    "import numpy as np\n",
    "import pandas as pd\n",
    "\n",
    "from cmf_rateslib.curves.base_curve import BaseZeroCurve\n",
    "from cmf_rateslib.products.bonds import ZCBond\n",
    "from cmf_rateslib.products.structure_product import StructureProduct\n",
    "from cmf_rateslib.products.swaps import Swap, Swaption\n",
    "\n",
    "curve = BaseZeroCurve(np.array([0,2,5,10]), np.array([0.01, 0.02, 0.03, 0.03]), interp_method='L-LDF-3M-90')\n",
    "\n",
    "swaption = Swaption(\n",
    "    premium=0.05 * ZCBond(expiry=0.),\n",
    "    execution_probability=0.3,\n",
    "    swap=Swap(\n",
    "        fixed_leg=StructureProduct(\n",
    "            weights=[.03, .03, .03, 1.03],\n",
    "            products=[\n",
    "                ZCBond(expiry=.5),\n",
    "                ZCBond(expiry=1.),\n",
    "                ZCBond(expiry=1.5),\n",
    "                ZCBond(expiry=2.),\n",
    "            ]\n",
    "        ),\n",
    "        float_leg=StructureProduct(\n",
    "            weights=[.03, .05, .02, 0.99],\n",
    "            products=[\n",
    "                ZCBond(expiry=.5),\n",
    "                ZCBond(expiry=1.),\n",
    "                ZCBond(expiry=1.5),\n",
    "                ZCBond(expiry=2.),\n",
    "            ]\n",
    "        ),\n",
    "    )\n",
    ")\n",
    "\n",
    "swaption.pv(asof=0., discount_curve=curve)\n",
    "# uncomment this when dv01, convexity, modified_duration, rolldown are implemented for ZCBond.\n",
    "# swaption.stats(asof=0., discount_curve=curve)"
   ]
  }
 ],
 "metadata": {
  "kernelspec": {
   "display_name": "Python 3 (ipykernel)",
   "language": "python",
   "name": "python3"
  },
  "language_info": {
   "codemirror_mode": {
    "name": "ipython",
    "version": 3
   },
   "file_extension": ".py",
   "mimetype": "text/x-python",
   "name": "python",
   "nbconvert_exporter": "python",
   "pygments_lexer": "ipython3",
   "version": "3.9.6"
  }
 },
 "nbformat": 4,
 "nbformat_minor": 5
}
