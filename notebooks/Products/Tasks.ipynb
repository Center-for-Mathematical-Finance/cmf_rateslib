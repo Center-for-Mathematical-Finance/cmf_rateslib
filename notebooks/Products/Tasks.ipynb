{
 "cells": [
  {
   "cell_type": "code",
   "execution_count": 1,
   "id": "acff9104",
   "metadata": {},
   "outputs": [],
   "source": [
    "cmf_rateslib_root = '../../'\n",
    "import sys\n",
    "if cmf_rateslib_root not in sys.path:\n",
    "    sys.path.append(cmf_rateslib_root)"
   ]
  },
  {
   "cell_type": "markdown",
   "id": "bcbe5c0b",
   "metadata": {},
   "source": [
    "# Tasks for Products Group\n",
    "Products to implement:\n",
    "1. Coupon Bond\n",
    "2. FRA\n",
    "3. IR Futures\n",
    "4. Libor IRS\n",
    "       pv(asof, forward_curve, discount_curve)\n",
    "5. OIS\n",
    "6.  *Swaptions, etc....\n",
    "\n",
    "For each product:\n",
    "1. cashflows  (+ visual presentaion in notebook)\n",
    "2. pv\n",
    "3. DVO1, Duration   (Duration = DVO1 / Price)\n",
    "4. Convexity (second derivative)\n",
    "\n",
    "5. Rolldown (theta - how will price change in one time period goes by) \n",
    "\n",
    "6. Study (in notebook):\n",
    "    How PV, DVO1, etc changes as we bump curves"
   ]
  },
  {
   "cell_type": "markdown",
   "id": "bd31d55c",
   "metadata": {},
   "source": [
    "# Must have functionality:\n",
    "\n",
    "1. cashflows -> [times], [cash values]\n",
    "2. pv(asof, curve[s]) --> value\n",
    "3. dv01, duration  --> value\n",
    "5. rolldown -- > value\n",
    "\n",
    "\n",
    "Must have for bonds:\n",
    "\n",
    "\n",
    "- yield(price) -> yield to maturity \n",
    "\n",
    "- price(yield) -> price \n",
    "\n",
    "- clean price / dirty price / accrued interest"
   ]
  },
  {
   "cell_type": "code",
   "execution_count": null,
   "id": "8d53eb83",
   "metadata": {},
   "outputs": [],
   "source": []
  }
 ],
 "metadata": {
  "kernelspec": {
   "display_name": "Python 3",
   "language": "python",
   "name": "python3"
  },
  "language_info": {
   "codemirror_mode": {
    "name": "ipython",
    "version": 3
   },
   "file_extension": ".py",
   "mimetype": "text/x-python",
   "name": "python",
   "nbconvert_exporter": "python",
   "pygments_lexer": "ipython3",
   "version": "3.9.5"
  }
 },
 "nbformat": 4,
 "nbformat_minor": 5
}
